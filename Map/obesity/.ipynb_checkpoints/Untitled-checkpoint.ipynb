{
 "cells": [
  {
   "cell_type": "code",
   "execution_count": 76,
   "metadata": {},
   "outputs": [],
   "source": [
    "import pandas as pd\n",
    "import pycountry\n",
    "pd.set_option('display.max_columns', 10)\n",
    "pd.set_option('display.max_rows', 500)\n",
    "df = pd.read_csv('obisityCleaned.csv')\n",
    "\n",
    "# codes = []\n",
    "\n",
    "# for i in df['Country']:\n",
    "#     try:\n",
    "#         codes.append(pycountry.countries.search_fuzzy(i)[0].alpha_3)\n",
    "#     except LookupError:\n",
    "#         codes.append(\"COD\")\n",
    "# df['ISO3'] = codes\n",
    "    \n",
    "# df.to_csv('obisityCleaned.csv')"
   ]
  }
 ],
 "metadata": {
  "kernelspec": {
   "display_name": "Python 3",
   "language": "python",
   "name": "python3"
  },
  "language_info": {
   "codemirror_mode": {
    "name": "ipython",
    "version": 3
   },
   "file_extension": ".py",
   "mimetype": "text/x-python",
   "name": "python",
   "nbconvert_exporter": "python",
   "pygments_lexer": "ipython3",
   "version": "3.8.2"
  }
 },
 "nbformat": 4,
 "nbformat_minor": 4
}
